{
  "nbformat": 4,
  "nbformat_minor": 0,
  "metadata": {
    "colab": {
      "name": "NeuralNetworks.ipynb",
      "provenance": [],
      "authorship_tag": "ABX9TyMKiV9nefKY8oNwT8reOrRE",
      "include_colab_link": true
    },
    "kernelspec": {
      "name": "python3",
      "display_name": "Python 3"
    },
    "language_info": {
      "name": "python"
    },
    "accelerator": "GPU",
    "gpuClass": "standard"
  },
  "cells": [
    {
      "cell_type": "markdown",
      "metadata": {
        "id": "view-in-github",
        "colab_type": "text"
      },
      "source": [
        "<a href=\"https://colab.research.google.com/github/SXV357/Inspirit-AI-ML-Basics-Notebooks/blob/main/NeuralNetworks.ipynb\" target=\"_parent\"><img src=\"https://colab.research.google.com/assets/colab-badge.svg\" alt=\"Open In Colab\"/></a>"
      ]
    },
    {
      "cell_type": "code",
      "execution_count": 1,
      "metadata": {
        "id": "ElaFJmKdw5sY"
      },
      "outputs": [],
      "source": [
        "from sklearn.neural_network import MLPClassifier\n",
        "from sklearn.neighbors import KNeighborsClassifier\n",
        "from sklearn import model_selection\n",
        "import numpy as np\n",
        "from sklearn.metrics import accuracy_score\n",
        "from collections import Counter\n",
        "import tensorflow.keras as keras\n",
        "from keras.models import Sequential\n",
        "from keras.layers import Dense, Conv2D\n",
        "from keras.layers import Activation, MaxPooling2D, Dropout, Flatten, Reshape\n",
        "from keras.wrappers.scikit_learn import KerasClassifier\n",
        "from sklearn.model_selection import StratifiedKFold\n",
        "from sklearn.model_selection import cross_val_score\n",
        "import pandas as pd\n",
        "import matplotlib.pyplot as plt\n",
        "import seaborn as sns\n",
        "\n",
        "import warnings\n",
        "warnings.filterwarnings(\"ignore\", category=UserWarning)\n",
        "\n",
        "def load_data():\n",
        "  # Run this cell to download our data into a file called 'cifar_data'\n",
        "  import gdown\n",
        "  # gdown.download('https://drive.google.com/uc?id=1-BjeqccJdLiBA6PnNinmXSQ6w5BluLem','cifar_data','True'); # dogs v road;\n",
        "  !wget -O cifar_data https://storage.googleapis.com/inspirit-ai-data-bucket-1/Data/AI%20Scholars/Sessions%201%20-%205/Session%204%20_%205%20-%20Neural%20Networks%20_%20CNN/dogs_v_roads\n",
        "\n",
        "  # now load the data from our cloud computer\n",
        "  import pickle\n",
        "  data_dict = pickle.load(open( \"cifar_data\", \"rb\" ));\n",
        "  \n",
        "  data   = data_dict['data']\n",
        "  labels = data_dict['labels']\n",
        "  \n",
        "  return data, labels\n",
        "\n",
        "def plot_one_image(data, labels, img_idx):\n",
        "  from google.colab.patches import cv2_imshow\n",
        "  import cv2\n",
        "  my_img   = data[img_idx, :].squeeze().reshape([32,32,3]).copy()\n",
        "  my_label = labels[img_idx]\n",
        "  print('label: %s'%my_label)\n",
        "  fig, ax = plt.subplots(1,1)\n",
        "\n",
        "  img = ax.imshow(my_img, extent=[-1,1,-1,1])\n",
        "\n",
        "  x_label_list = [0, 8, 16, 24, 32]\n",
        "  y_label_list = [0, 8, 16, 24, 32]\n",
        "\n",
        "  ax.set_xticks([-1, -0.5, 0, 0.5, 1])\n",
        "  ax.set_yticks([-1, -0.5, 0, 0.5, 1])\n",
        "\n",
        "  ax.set_xticklabels(x_label_list)\n",
        "  ax.set_yticklabels(y_label_list)\n",
        "\n",
        "  fig.show(img)\n",
        "\n",
        "def categorical_to_numpy(labels_in):\n",
        "  return np.array(list(map(lambda x: np.array([1, 0]) if x == \"dog\" else np.array([0, 1]), labels_in)), dtype=\"float32\")\n",
        "  \n",
        "def CNNClassifier(num_epochs=30):\n",
        "  def create_model():\n",
        "    model = Sequential()\n",
        "    model.add(Reshape((32, 32, 3)))\n",
        "    model.add(Conv2D(32, (3, 3), padding='same'))\n",
        "    model.add(Activation('relu'))\n",
        "    model.add(Conv2D(32, (3, 3)))\n",
        "    model.add(Activation('relu'))\n",
        "    model.add(MaxPooling2D(pool_size=(2, 2)))\n",
        "    model.add(Dropout(0.25))\n",
        "\n",
        "    model.add(Conv2D(64, (3, 3), padding='same'))\n",
        "    model.add(Activation('relu'))\n",
        "    model.add(Conv2D(64, (3, 3)))\n",
        "    model.add(Activation('relu'))\n",
        "    model.add(MaxPooling2D(pool_size=(2, 2)))\n",
        "    model.add(Dropout(0.25))\n",
        "\n",
        "    model.add(Flatten())\n",
        "    model.add(Dense(512))\n",
        "    model.add(Activation('relu'))\n",
        "    model.add(Dropout(0.5))\n",
        "    model.add(Dense(2))\n",
        "    model.add(Activation('softmax'))\n",
        "\n",
        "    # initiate RMSprop optimizer\n",
        "    opt = keras.optimizers.RMSprop(learning_rate=0.0001, decay=1e-6)\n",
        "\n",
        "    # Let's train the model using RMSprop\n",
        "    model.compile(loss='categorical_crossentropy',\n",
        "                  optimizer=opt,\n",
        "                  metrics=['accuracy'])\n",
        "    return model\n",
        "  return KerasClassifier(build_fn=create_model, epochs=num_epochs, batch_size=10, verbose=2)\n",
        "\n",
        "\n",
        "def plot_acc(history, ax = None, xlabel = 'Epoch #'):\n",
        "    history = history.history\n",
        "    history.update({'epoch':list(range(len(history['val_accuracy'])))})\n",
        "    history = pd.DataFrame.from_dict(history)\n",
        "\n",
        "    best_epoch = history.sort_values(by = 'val_accuracy', ascending = False).iloc[0]['epoch']\n",
        "\n",
        "    if not ax:\n",
        "      f, ax = plt.subplots(1,1)\n",
        "    sns.lineplot(x = 'epoch', y = 'val_accuracy', data = history, label = 'Validation', ax = ax)\n",
        "    sns.lineplot(x = 'epoch', y = 'accuracy', data = history, label = 'Training', ax = ax)\n",
        "    ax.axhline(0.5, linestyle = '--',color='red', label = 'Chance')\n",
        "    ax.axvline(x = best_epoch, linestyle = '--', color = 'green', label = 'Best Epoch')  \n",
        "    ax.legend(loc = 7)    \n",
        "    ax.set_ylim([0.4, 1])\n",
        "\n",
        "    ax.set_xlabel(xlabel)\n",
        "    ax.set_ylabel('Accuracy (Fraction)')\n",
        "    \n",
        "    plt.show()"
      ]
    },
    {
      "cell_type": "code",
      "source": [
        "data, labels = load_data()"
      ],
      "metadata": {
        "colab": {
          "base_uri": "https://localhost:8080/"
        },
        "id": "6gdy-MNHx9Wj",
        "outputId": "74fe7625-b6c4-4195-f344-02072aa887bf"
      },
      "execution_count": 2,
      "outputs": [
        {
          "output_type": "stream",
          "name": "stdout",
          "text": [
            "--2022-06-18 03:07:49--  https://storage.googleapis.com/inspirit-ai-data-bucket-1/Data/AI%20Scholars/Sessions%201%20-%205/Session%204%20_%205%20-%20Neural%20Networks%20_%20CNN/dogs_v_roads\n",
            "Resolving storage.googleapis.com (storage.googleapis.com)... 108.177.98.128, 74.125.197.128, 74.125.135.128, ...\n",
            "Connecting to storage.googleapis.com (storage.googleapis.com)|108.177.98.128|:443... connected.\n",
            "HTTP request sent, awaiting response... 200 OK\n",
            "Length: 3689015 (3.5M) [application/octet-stream]\n",
            "Saving to: ‘cifar_data’\n",
            "\n",
            "cifar_data          100%[===================>]   3.52M  --.-KB/s    in 0.04s   \n",
            "\n",
            "2022-06-18 03:07:49 (88.4 MB/s) - ‘cifar_data’ saved [3689015/3689015]\n",
            "\n"
          ]
        }
      ]
    },
    {
      "cell_type": "code",
      "source": [
        "plot_one_image(data, labels, 300)"
      ],
      "metadata": {
        "colab": {
          "base_uri": "https://localhost:8080/",
          "height": 286
        },
        "id": "UXeG4OeuyAkj",
        "outputId": "e8af02da-b13d-4329-e2c2-4e3cdb35c559"
      },
      "execution_count": 3,
      "outputs": [
        {
          "output_type": "stream",
          "name": "stdout",
          "text": [
            "label: dog\n"
          ]
        },
        {
          "output_type": "display_data",
          "data": {
            "text/plain": [
              "<Figure size 432x288 with 1 Axes>"
            ],
            "image/png": "[encoded data removed]"
          },
          "metadata": {
            "needs_background": "light"
          }
        }
      ]
    },
    {
      "cell_type": "code",
      "source": [
        "plot_one_image(data, labels, 947)"
      ],
      "metadata": {
        "colab": {
          "base_uri": "https://localhost:8080/",
          "height": 286
        },
        "id": "VAVxNdm2yBUY",
        "outputId": "81a4ff9a-7425-43a3-e4bb-c483efecd931"
      },
      "execution_count": 4,
      "outputs": [
        {
          "output_type": "stream",
          "name": "stdout",
          "text": [
            "label: road\n"
          ]
        },
        {
          "output_type": "display_data",
          "data": {
            "text/plain": [
              "<Figure size 432x288 with 1 Axes>"
            ],
            "image/png": "[encoded data removed]"
          },
          "metadata": {
            "needs_background": "light"
          }
        }
      ]
    },
    {
      "cell_type": "code",
      "source": [
        "print(f'{len(data)}, Shape: {data.shape}')\n",
        "print(Counter(labels))"
      ],
      "metadata": {
        "colab": {
          "base_uri": "https://localhost:8080/"
        },
        "id": "4jBQMwxeyDA8",
        "outputId": "5a6f7856-e583-4f44-aed1-794772dfb6fe"
      },
      "execution_count": 5,
      "outputs": [
        {
          "output_type": "stream",
          "name": "stdout",
          "text": [
            "1200, Shape: (1200, 3072)\n",
            "Counter({'dog': 600, 'road': 600})\n"
          ]
        }
      ]
    },
    {
      "cell_type": "code",
      "source": [
        "for i in [20, 40, 60, 80, 100]:\n",
        "  plot_one_image(data, labels, i)"
      ],
      "metadata": {
        "colab": {
          "base_uri": "https://localhost:8080/",
          "height": 1000
        },
        "id": "AC9Dq9jIyE74",
        "outputId": "4fb2d875-fc6f-4c2c-acc9-ffa2a7e3fa6b"
      },
      "execution_count": 6,
      "outputs": [
        {
          "output_type": "stream",
          "name": "stdout",
          "text": [
            "label: dog\n",
            "label: dog\n",
            "label: dog\n",
            "label: dog\n",
            "label: dog\n"
          ]
        },
        {
          "output_type": "display_data",
          "data": {
            "text/plain": [
              "<Figure size 432x288 with 1 Axes>"
            ],
            "image/png": "[encoded data removed]"
          },
          "metadata": {
            "needs_background": "light"
          }
        },
        {
          "output_type": "display_data",
          "data": {
            "text/plain": [
              "<Figure size 432x288 with 1 Axes>"
            ],
            "image/png": "[encoded data removed]"
          },
          "metadata": {
            "needs_background": "light"
          }
        },
        {
          "output_type": "display_data",
          "data": {
            "text/plain": [
              "<Figure size 432x288 with 1 Axes>"
            ],
            "image/png": "[encoded data removed]"
          },
          "metadata": {
            "needs_background": "light"
          }
        },
        {
          "output_type": "display_data",
          "data": {
            "text/plain": [
              "<Figure size 432x288 with 1 Axes>"
            ],
            "image/png": "[encoded data removed]"
          },
          "metadata": {
            "needs_background": "light"
          }
        },
        {
          "output_type": "display_data",
          "data": {
            "text/plain": [
              "<Figure size 432x288 with 1 Axes>"
            ],
            "image/png": "[encoded data removed]"
          },
          "metadata": {
            "needs_background": "light"
          }
        }
      ]
    },
    {
      "cell_type": "code",
      "source": [
        "print('One image looks like: ')\n",
        "print(data[0]) # accesses 1st image\n",
        "print(\"Length of list: \", len(data[0]))\n",
        "#RGB images are being fed in, so they're split up into 3 color channels and each split up image is 32 x 32 in dimensions\n",
        "# since we have 3 color channels, we are storing a 3D matrix so the length of a list will be the dimension squared x # of elements per image\n",
        "# 32^2 * 3 = 3072"
      ],
      "metadata": {
        "colab": {
          "base_uri": "https://localhost:8080/"
        },
        "id": "7R4OQRIEyGs1",
        "outputId": "26dbef38-1867-4f67-b7fe-bb7ac84f3fc3"
      },
      "execution_count": 7,
      "outputs": [
        {
          "output_type": "stream",
          "name": "stdout",
          "text": [
            "One image looks like: \n",
            "[45 20 19 ... 83 99 31]\n",
            "Length of list:  3072\n"
          ]
        }
      ]
    },
    {
      "cell_type": "code",
      "source": [
        "print ('Data shape:', data.shape) # 1200 subarrays with length of 3072(3D array is 32 x 32)\n",
        "print ('Data:', data) # 1200 images overall(represented by 1200 arrays inside the main array)"
      ],
      "metadata": {
        "colab": {
          "base_uri": "https://localhost:8080/"
        },
        "id": "1kydBWeVyJ-A",
        "outputId": "b8cad24d-1331-43bb-a9b5-41eb7cf91cd5"
      },
      "execution_count": 8,
      "outputs": [
        {
          "output_type": "stream",
          "name": "stdout",
          "text": [
            "Data shape: (1200, 3072)\n",
            "Data: [[ 45  20  19 ...  83  99  31]\n",
            " [101 114  35 ... 155 134  91]\n",
            " [213 221 221 ... 139  58  47]\n",
            " ...\n",
            " [126 174 202 ... 124 128 129]\n",
            " [191 232 240 ...  74  93  81]\n",
            " [237 248 254 ...  45  56  10]]\n"
          ]
        }
      ]
    },
    {
      "cell_type": "code",
      "source": [
        "X_train, X_test, y_train, y_test = model_selection.train_test_split(data, labels, test_size=0.2, random_state=1)\n",
        "\n",
        "knn = KNeighborsClassifier(n_neighbors=5)\n",
        "\n",
        "knn.fit(X_train, y_train) # always fit model on training data set\n",
        "\n",
        "y_pred = knn.predict(X_test)\n",
        "\n",
        "print(\"KNN Testing Set Accuracy:\")\n",
        "print(f'{round(accuracy_score(y_test, y_pred) * 100, 3)} %')\n",
        "\n",
        "#using trained model and checking its predictions on various images\n",
        "image_id = 138 #Change this!\n",
        "\n",
        "# Visualize the image\n",
        "plot_one_image(X_test, y_test, image_id)\n",
        "\n",
        "# Use the model to predict what this might be and print it\n",
        "print('Predicted image:', knn.predict([X_test[image_id]])[0])"
      ],
      "metadata": {
        "colab": {
          "base_uri": "https://localhost:8080/",
          "height": 338
        },
        "id": "NcKcBXeeyNa5",
        "outputId": "e63ca95c-8332-4b4f-b6c1-bf8a6b40884d"
      },
      "execution_count": 11,
      "outputs": [
        {
          "output_type": "stream",
          "name": "stdout",
          "text": [
            "KNN Testing Set Accuracy:\n",
            "79.167 %\n",
            "label: dog\n",
            "Predicted image: dog\n"
          ]
        },
        {
          "output_type": "display_data",
          "data": {
            "text/plain": [
              "<Figure size 432x288 with 1 Axes>"
            ],
            "image/png": "[encoded data removed]"
          },
          "metadata": {
            "needs_background": "light"
          }
        }
      ]
    },
    {
      "cell_type": "code",
      "source": [
        "# building custom knn model\n",
        "\n",
        "new_knn = KNeighborsClassifier(n_neighbors=2)\n",
        "\n",
        "new_knn.fit(X_train, y_train)\n",
        "\n",
        "new_y_pred = new_knn.predict(X_test)\n",
        "\n",
        "new_accuracy = accuracy_score(y_test, new_y_pred)\n",
        "\n",
        "print(f'New accuracy is: {round(new_accuracy * 100, 2)} %')\n",
        "\n",
        "\n",
        "new_id = 239\n",
        "plot_one_image(X_test, y_test, new_id)\n",
        "print('New prediction:', new_knn.predict([X_test[new_id]])[0])"
      ],
      "metadata": {
        "colab": {
          "base_uri": "https://localhost:8080/",
          "height": 321
        },
        "id": "jzyWylGAyghc",
        "outputId": "d28513be-4d9b-4296-83d9-23a34cfee40d"
      },
      "execution_count": 12,
      "outputs": [
        {
          "output_type": "stream",
          "name": "stdout",
          "text": [
            "New accuracy is: 89.17 %\n",
            "label: dog\n",
            "New prediction: dog\n"
          ]
        },
        {
          "output_type": "display_data",
          "data": {
            "text/plain": [
              "<Figure size 432x288 with 1 Axes>"
            ],
            "image/png": "[encoded data removed]"
          },
          "metadata": {
            "needs_background": "light"
          }
        }
      ]
    },
    {
      "cell_type": "code",
      "source": [
        "for k in [2,6,10,14,18,22,26,30]:\n",
        "  knn = KNeighborsClassifier(n_neighbors=k)\n",
        "  knn.fit(X_train, y_train)\n",
        "  new_y_pred = knn.predict(X_test)\n",
        "  new_accuracy = accuracy_score(y_test, new_y_pred)\n",
        "  print(f'With {k} neighbors, accuracy is: {round(new_accuracy * 100, 2)} %')"
      ],
      "metadata": {
        "colab": {
          "base_uri": "https://localhost:8080/"
        },
        "id": "xFX1vo0Zynpo",
        "outputId": "0cf36227-c947-4e59-d5ed-c346b600393c"
      },
      "execution_count": 13,
      "outputs": [
        {
          "output_type": "stream",
          "name": "stdout",
          "text": [
            "With 2 neighbors, accuracy is: 89.17 %\n",
            "With 6 neighbors, accuracy is: 83.75 %\n",
            "With 10 neighbors, accuracy is: 82.92 %\n",
            "With 14 neighbors, accuracy is: 84.58 %\n",
            "With 18 neighbors, accuracy is: 82.5 %\n",
            "With 22 neighbors, accuracy is: 81.67 %\n",
            "With 26 neighbors, accuracy is: 82.08 %\n",
            "With 30 neighbors, accuracy is: 81.67 %\n"
          ]
        }
      ]
    },
    {
      "cell_type": "code",
      "source": [
        "# loading in and training a simple NN\n",
        "\n",
        "nnet = MLPClassifier(hidden_layer_sizes=(10, 5, 4), random_state=1, max_iter= 10000)\n",
        "nnet.fit(X_train, y_train)\n",
        "\n",
        "predictions = nnet.predict(X_test)\n",
        "\n",
        "print(\"MLP Testing Accuracy:\")\n",
        "print(f'{round(accuracy_score(y_test, predictions)*100, 2)} %')\n",
        "# if high accuracy, starts dropping because model is overfitting testing dataset\n",
        "\n",
        "img_id = 137\n",
        "plot_one_image(X_test, y_test, img_id)\n",
        "print(f'Prediction by neural network: {nnet.predict([X_test[img_id]])[0]}')"
      ],
      "metadata": {
        "colab": {
          "base_uri": "https://localhost:8080/",
          "height": 338
        },
        "id": "fVIzq01nyo8e",
        "outputId": "14fa086b-4950-45f1-9b60-f41f62ce52ae"
      },
      "execution_count": 14,
      "outputs": [
        {
          "output_type": "stream",
          "name": "stdout",
          "text": [
            "MLP Testing Accuracy:\n",
            "86.67 %\n",
            "label: dog\n",
            "Prediction by neural network: dog\n"
          ]
        },
        {
          "output_type": "display_data",
          "data": {
            "text/plain": [
              "<Figure size 432x288 with 1 Axes>"
            ],
            "image/png": "[encoded data removed]"
          },
          "metadata": {
            "needs_background": "light"
          }
        }
      ]
    },
    {
      "cell_type": "code",
      "source": [
        "# building custom MLP NN\n",
        "\n",
        "new_nnet = MLPClassifier(hidden_layer_sizes = (10, 10), random_state = 15, max_iter = 10000000)\n",
        "# assigning it to specific value(assigning all weights to same value during each iteration)\n",
        "#ensure model is not dependent on randomization of weights\n",
        "new_nnet.fit(X_train, y_train)\n",
        "nnet_pred = new_nnet.predict(X_test)\n",
        "nnet_accuracy = accuracy_score(y_test, nnet_pred)\n",
        "print(f'{round(nnet_accuracy * 100, 2)} %')\n",
        "plot_one_image(X_test, y_test, 94)\n",
        "print(f'Predicted: {new_nnet.predict([X_test[img_id]])[0]}')"
      ],
      "metadata": {
        "colab": {
          "base_uri": "https://localhost:8080/",
          "height": 321
        },
        "id": "6DBQhXhly5pJ",
        "outputId": "5ec82ce0-696f-4ad1-e773-62baa7a1fe18"
      },
      "execution_count": 15,
      "outputs": [
        {
          "output_type": "stream",
          "name": "stdout",
          "text": [
            "85.83 %\n",
            "label: dog\n",
            "Predicted: dog\n"
          ]
        },
        {
          "output_type": "display_data",
          "data": {
            "text/plain": [
              "<Figure size 432x288 with 1 Axes>"
            ],
            "image/png": "[encoded data removed]"
          },
          "metadata": {
            "needs_background": "light"
          }
        }
      ]
    },
    {
      "cell_type": "code",
      "source": [
        "# experimenting with various combinations of layers and number of neurons within each\n",
        "\n",
        "for layers in [(160, 321), (2, 45), (3, 67), (110, 529)]: #ADD MORE HERE!\n",
        "\n",
        "  print(f'Layer parameters are: {layers}')\n",
        "  nnet = MLPClassifier(hidden_layer_sizes=layers, random_state=1, max_iter=10000) \n",
        "\n",
        "  nnet.fit(X_train, y_train)\n",
        "\n",
        "  # Predict what the classes are based on the testing data\n",
        "  predictions = nnet.predict(X_test)\n",
        "\n",
        "  # Print the score on the testing data\n",
        "  print(f\"MLP Testing Accuracy: {round(accuracy_score(y_test, predictions)*100, 2)} %\")"
      ],
      "metadata": {
        "colab": {
          "base_uri": "https://localhost:8080/"
        },
        "id": "VdHZhJkTzBjO",
        "outputId": "9c3d9c57-e932-42c9-fde3-658775054138"
      },
      "execution_count": 16,
      "outputs": [
        {
          "output_type": "stream",
          "name": "stdout",
          "text": [
            "Layer parameters are: (160, 321)\n",
            "MLP Testing Accuracy: 87.92 %\n",
            "Layer parameters are: (2, 45)\n",
            "MLP Testing Accuracy: 47.08 %\n",
            "Layer parameters are: (3, 67)\n",
            "MLP Testing Accuracy: 47.08 %\n",
            "Layer parameters are: (110, 529)\n",
            "MLP Testing Accuracy: 83.33 %\n"
          ]
        }
      ]
    },
    {
      "cell_type": "code",
      "source": [
        "# creating and training a simple CNN\n",
        "\n",
        "X_train = X_train.astype(float)\n",
        "X_test = X_test.astype(float)\n",
        "\n",
        "# Create and train our CNN model\n",
        "cnn = CNNClassifier()\n",
        "cnn.fit(X_train, y_train)\n",
        "\n",
        "# Predict what the classes are based on the testing data\n",
        "predictions = cnn.predict(X_test)\n",
        "\n",
        "# Print the score on the testing data\n",
        "print(\"CNN Testing Accuracy:\")\n",
        "print(f'{round(accuracy_score(y_test, predictions)*100, 3)}')"
      ],
      "metadata": {
        "colab": {
          "base_uri": "https://localhost:8080/"
        },
        "id": "s2NK3fWkzPC1",
        "outputId": "85ef2009-45ab-4b72-9eb0-266efdfdc672"
      },
      "execution_count": 17,
      "outputs": [
        {
          "output_type": "stream",
          "name": "stderr",
          "text": [
            "/usr/local/lib/python3.7/dist-packages/ipykernel_launcher.py:93: DeprecationWarning: KerasClassifier is deprecated, use Sci-Keras (https://github.com/adriangb/scikeras) instead. See https://www.adriangb.com/scikeras/stable/migration.html for help migrating.\n"
          ]
        },
        {
          "output_type": "stream",
          "name": "stdout",
          "text": [
            "Epoch 1/30\n",
            "96/96 - 13s - loss: 6.8559 - accuracy: 0.6542 - 13s/epoch - 136ms/step\n",
            "Epoch 2/30\n",
            "96/96 - 0s - loss: 1.1605 - accuracy: 0.8427 - 376ms/epoch - 4ms/step\n",
            "Epoch 3/30\n",
            "96/96 - 0s - loss: 0.6281 - accuracy: 0.8594 - 378ms/epoch - 4ms/step\n",
            "Epoch 4/30\n",
            "96/96 - 0s - loss: 0.4643 - accuracy: 0.8885 - 374ms/epoch - 4ms/step\n",
            "Epoch 5/30\n",
            "96/96 - 0s - loss: 0.2711 - accuracy: 0.9146 - 392ms/epoch - 4ms/step\n",
            "Epoch 6/30\n",
            "96/96 - 0s - loss: 0.2524 - accuracy: 0.9229 - 381ms/epoch - 4ms/step\n",
            "Epoch 7/30\n",
            "96/96 - 0s - loss: 0.2029 - accuracy: 0.9333 - 377ms/epoch - 4ms/step\n",
            "Epoch 8/30\n",
            "96/96 - 0s - loss: 0.2111 - accuracy: 0.9229 - 384ms/epoch - 4ms/step\n",
            "Epoch 9/30\n",
            "96/96 - 0s - loss: 0.1874 - accuracy: 0.9292 - 385ms/epoch - 4ms/step\n",
            "Epoch 10/30\n",
            "96/96 - 0s - loss: 0.1419 - accuracy: 0.9521 - 371ms/epoch - 4ms/step\n",
            "Epoch 11/30\n",
            "96/96 - 0s - loss: 0.1551 - accuracy: 0.9542 - 389ms/epoch - 4ms/step\n",
            "Epoch 12/30\n",
            "96/96 - 0s - loss: 0.1048 - accuracy: 0.9594 - 372ms/epoch - 4ms/step\n",
            "Epoch 13/30\n",
            "96/96 - 0s - loss: 0.1197 - accuracy: 0.9667 - 401ms/epoch - 4ms/step\n",
            "Epoch 14/30\n",
            "96/96 - 0s - loss: 0.1139 - accuracy: 0.9594 - 371ms/epoch - 4ms/step\n",
            "Epoch 15/30\n",
            "96/96 - 0s - loss: 0.1406 - accuracy: 0.9552 - 375ms/epoch - 4ms/step\n",
            "Epoch 16/30\n",
            "96/96 - 0s - loss: 0.1022 - accuracy: 0.9677 - 375ms/epoch - 4ms/step\n",
            "Epoch 17/30\n",
            "96/96 - 0s - loss: 0.0806 - accuracy: 0.9729 - 379ms/epoch - 4ms/step\n",
            "Epoch 18/30\n",
            "96/96 - 0s - loss: 0.0704 - accuracy: 0.9750 - 371ms/epoch - 4ms/step\n",
            "Epoch 19/30\n",
            "96/96 - 0s - loss: 0.0973 - accuracy: 0.9740 - 381ms/epoch - 4ms/step\n",
            "Epoch 20/30\n",
            "96/96 - 0s - loss: 0.1103 - accuracy: 0.9656 - 372ms/epoch - 4ms/step\n",
            "Epoch 21/30\n",
            "96/96 - 0s - loss: 0.0736 - accuracy: 0.9729 - 391ms/epoch - 4ms/step\n",
            "Epoch 22/30\n",
            "96/96 - 0s - loss: 0.0719 - accuracy: 0.9708 - 385ms/epoch - 4ms/step\n",
            "Epoch 23/30\n",
            "96/96 - 0s - loss: 0.0587 - accuracy: 0.9781 - 384ms/epoch - 4ms/step\n",
            "Epoch 24/30\n",
            "96/96 - 0s - loss: 0.0649 - accuracy: 0.9792 - 383ms/epoch - 4ms/step\n",
            "Epoch 25/30\n",
            "96/96 - 0s - loss: 0.0477 - accuracy: 0.9823 - 377ms/epoch - 4ms/step\n",
            "Epoch 26/30\n",
            "96/96 - 0s - loss: 0.0469 - accuracy: 0.9844 - 376ms/epoch - 4ms/step\n",
            "Epoch 27/30\n",
            "96/96 - 0s - loss: 0.0549 - accuracy: 0.9802 - 373ms/epoch - 4ms/step\n",
            "Epoch 28/30\n",
            "96/96 - 0s - loss: 0.0467 - accuracy: 0.9802 - 372ms/epoch - 4ms/step\n",
            "Epoch 29/30\n",
            "96/96 - 0s - loss: 0.0388 - accuracy: 0.9865 - 383ms/epoch - 4ms/step\n",
            "Epoch 30/30\n",
            "96/96 - 0s - loss: 0.0360 - accuracy: 0.9875 - 378ms/epoch - 4ms/step\n",
            "CNN Testing Accuracy:\n",
            "95.833\n"
          ]
        }
      ]
    },
    {
      "cell_type": "code",
      "source": [
        "# plotting training and validation curves\n",
        "\n",
        "history = cnn.fit(X_train, categorical_to_numpy(y_train), validation_data = (X_test, categorical_to_numpy(y_test)), epochs = 50)\n",
        "plot_acc(history)"
      ],
      "metadata": {
        "colab": {
          "base_uri": "https://localhost:8080/",
          "height": 1000
        },
        "id": "nIHIcwBkzaq9",
        "outputId": "7a1d23fa-13f2-49e9-90d8-c8bd5c520953"
      },
      "execution_count": 18,
      "outputs": [
        {
          "output_type": "stream",
          "name": "stdout",
          "text": [
            "Epoch 1/50\n",
            "96/96 - 3s - loss: 3.7538 - accuracy: 0.6958 - val_loss: 0.3218 - val_accuracy: 0.9042 - 3s/epoch - 26ms/step\n",
            "Epoch 2/50\n",
            "96/96 - 0s - loss: 1.0095 - accuracy: 0.8094 - val_loss: 0.1939 - val_accuracy: 0.9333 - 459ms/epoch - 5ms/step\n",
            "Epoch 3/50\n",
            "96/96 - 0s - loss: 0.4589 - accuracy: 0.8698 - val_loss: 0.3100 - val_accuracy: 0.8833 - 446ms/epoch - 5ms/step\n",
            "Epoch 4/50\n",
            "96/96 - 0s - loss: 0.4119 - accuracy: 0.8844 - val_loss: 0.1708 - val_accuracy: 0.9333 - 455ms/epoch - 5ms/step\n",
            "Epoch 5/50\n",
            "96/96 - 0s - loss: 0.2822 - accuracy: 0.9125 - val_loss: 0.2164 - val_accuracy: 0.9000 - 455ms/epoch - 5ms/step\n",
            "Epoch 6/50\n",
            "96/96 - 0s - loss: 0.2792 - accuracy: 0.9208 - val_loss: 0.1425 - val_accuracy: 0.9458 - 456ms/epoch - 5ms/step\n",
            "Epoch 7/50\n",
            "96/96 - 0s - loss: 0.2255 - accuracy: 0.9281 - val_loss: 0.1348 - val_accuracy: 0.9542 - 459ms/epoch - 5ms/step\n",
            "Epoch 8/50\n",
            "96/96 - 0s - loss: 0.1566 - accuracy: 0.9375 - val_loss: 0.1278 - val_accuracy: 0.9625 - 440ms/epoch - 5ms/step\n",
            "Epoch 9/50\n",
            "96/96 - 0s - loss: 0.1732 - accuracy: 0.9365 - val_loss: 0.1659 - val_accuracy: 0.9333 - 447ms/epoch - 5ms/step\n",
            "Epoch 10/50\n",
            "96/96 - 0s - loss: 0.1884 - accuracy: 0.9427 - val_loss: 0.1261 - val_accuracy: 0.9417 - 438ms/epoch - 5ms/step\n",
            "Epoch 11/50\n",
            "96/96 - 0s - loss: 0.1374 - accuracy: 0.9521 - val_loss: 0.1425 - val_accuracy: 0.9625 - 424ms/epoch - 4ms/step\n",
            "Epoch 12/50\n",
            "96/96 - 0s - loss: 0.1359 - accuracy: 0.9500 - val_loss: 0.1340 - val_accuracy: 0.9583 - 437ms/epoch - 5ms/step\n",
            "Epoch 13/50\n",
            "96/96 - 0s - loss: 0.1210 - accuracy: 0.9604 - val_loss: 0.1396 - val_accuracy: 0.9625 - 437ms/epoch - 5ms/step\n",
            "Epoch 14/50\n",
            "96/96 - 0s - loss: 0.1285 - accuracy: 0.9594 - val_loss: 0.1036 - val_accuracy: 0.9583 - 446ms/epoch - 5ms/step\n",
            "Epoch 15/50\n",
            "96/96 - 0s - loss: 0.1404 - accuracy: 0.9573 - val_loss: 0.1196 - val_accuracy: 0.9583 - 449ms/epoch - 5ms/step\n",
            "Epoch 16/50\n",
            "96/96 - 0s - loss: 0.1059 - accuracy: 0.9656 - val_loss: 0.1672 - val_accuracy: 0.9458 - 442ms/epoch - 5ms/step\n",
            "Epoch 17/50\n",
            "96/96 - 0s - loss: 0.0748 - accuracy: 0.9740 - val_loss: 0.1775 - val_accuracy: 0.9500 - 443ms/epoch - 5ms/step\n",
            "Epoch 18/50\n",
            "96/96 - 0s - loss: 0.0979 - accuracy: 0.9708 - val_loss: 0.1615 - val_accuracy: 0.9583 - 442ms/epoch - 5ms/step\n",
            "Epoch 19/50\n",
            "96/96 - 0s - loss: 0.0736 - accuracy: 0.9771 - val_loss: 0.1266 - val_accuracy: 0.9667 - 449ms/epoch - 5ms/step\n",
            "Epoch 20/50\n",
            "96/96 - 0s - loss: 0.0769 - accuracy: 0.9760 - val_loss: 0.1268 - val_accuracy: 0.9708 - 427ms/epoch - 4ms/step\n",
            "Epoch 21/50\n",
            "96/96 - 0s - loss: 0.0568 - accuracy: 0.9792 - val_loss: 0.1538 - val_accuracy: 0.9542 - 460ms/epoch - 5ms/step\n",
            "Epoch 22/50\n",
            "96/96 - 0s - loss: 0.0754 - accuracy: 0.9781 - val_loss: 0.1277 - val_accuracy: 0.9625 - 445ms/epoch - 5ms/step\n",
            "Epoch 23/50\n",
            "96/96 - 0s - loss: 0.0556 - accuracy: 0.9792 - val_loss: 0.1340 - val_accuracy: 0.9583 - 447ms/epoch - 5ms/step\n",
            "Epoch 24/50\n",
            "96/96 - 0s - loss: 0.0791 - accuracy: 0.9771 - val_loss: 0.1256 - val_accuracy: 0.9625 - 456ms/epoch - 5ms/step\n",
            "Epoch 25/50\n",
            "96/96 - 0s - loss: 0.0525 - accuracy: 0.9865 - val_loss: 0.2072 - val_accuracy: 0.9458 - 454ms/epoch - 5ms/step\n",
            "Epoch 26/50\n",
            "96/96 - 0s - loss: 0.0630 - accuracy: 0.9823 - val_loss: 0.1775 - val_accuracy: 0.9542 - 461ms/epoch - 5ms/step\n",
            "Epoch 27/50\n",
            "96/96 - 0s - loss: 0.0615 - accuracy: 0.9750 - val_loss: 0.1509 - val_accuracy: 0.9583 - 424ms/epoch - 4ms/step\n",
            "Epoch 28/50\n",
            "96/96 - 0s - loss: 0.0635 - accuracy: 0.9802 - val_loss: 0.1195 - val_accuracy: 0.9708 - 444ms/epoch - 5ms/step\n",
            "Epoch 29/50\n",
            "96/96 - 0s - loss: 0.0479 - accuracy: 0.9823 - val_loss: 0.1233 - val_accuracy: 0.9583 - 439ms/epoch - 5ms/step\n",
            "Epoch 30/50\n",
            "96/96 - 0s - loss: 0.0605 - accuracy: 0.9802 - val_loss: 0.1596 - val_accuracy: 0.9625 - 441ms/epoch - 5ms/step\n",
            "Epoch 31/50\n",
            "96/96 - 0s - loss: 0.0462 - accuracy: 0.9844 - val_loss: 0.1187 - val_accuracy: 0.9583 - 446ms/epoch - 5ms/step\n",
            "Epoch 32/50\n",
            "96/96 - 0s - loss: 0.0412 - accuracy: 0.9906 - val_loss: 0.1216 - val_accuracy: 0.9625 - 449ms/epoch - 5ms/step\n",
            "Epoch 33/50\n",
            "96/96 - 0s - loss: 0.0501 - accuracy: 0.9812 - val_loss: 0.1297 - val_accuracy: 0.9625 - 433ms/epoch - 5ms/step\n",
            "Epoch 34/50\n",
            "96/96 - 0s - loss: 0.0305 - accuracy: 0.9896 - val_loss: 0.1370 - val_accuracy: 0.9625 - 429ms/epoch - 4ms/step\n",
            "Epoch 35/50\n",
            "96/96 - 0s - loss: 0.0384 - accuracy: 0.9896 - val_loss: 0.1167 - val_accuracy: 0.9625 - 455ms/epoch - 5ms/step\n",
            "Epoch 36/50\n",
            "96/96 - 0s - loss: 0.0280 - accuracy: 0.9885 - val_loss: 0.1585 - val_accuracy: 0.9625 - 449ms/epoch - 5ms/step\n",
            "Epoch 37/50\n",
            "96/96 - 0s - loss: 0.0296 - accuracy: 0.9896 - val_loss: 0.2679 - val_accuracy: 0.9542 - 435ms/epoch - 5ms/step\n",
            "Epoch 38/50\n",
            "96/96 - 0s - loss: 0.0297 - accuracy: 0.9917 - val_loss: 0.1841 - val_accuracy: 0.9625 - 436ms/epoch - 5ms/step\n",
            "Epoch 39/50\n",
            "96/96 - 0s - loss: 0.0307 - accuracy: 0.9906 - val_loss: 0.1842 - val_accuracy: 0.9667 - 452ms/epoch - 5ms/step\n",
            "Epoch 40/50\n",
            "96/96 - 0s - loss: 0.0306 - accuracy: 0.9906 - val_loss: 0.2054 - val_accuracy: 0.9542 - 439ms/epoch - 5ms/step\n",
            "Epoch 41/50\n",
            "96/96 - 0s - loss: 0.0100 - accuracy: 0.9969 - val_loss: 0.2169 - val_accuracy: 0.9667 - 454ms/epoch - 5ms/step\n",
            "Epoch 42/50\n",
            "96/96 - 0s - loss: 0.0245 - accuracy: 0.9917 - val_loss: 0.1777 - val_accuracy: 0.9583 - 439ms/epoch - 5ms/step\n",
            "Epoch 43/50\n",
            "96/96 - 0s - loss: 0.0276 - accuracy: 0.9937 - val_loss: 0.1802 - val_accuracy: 0.9583 - 441ms/epoch - 5ms/step\n",
            "Epoch 44/50\n",
            "96/96 - 0s - loss: 0.0245 - accuracy: 0.9885 - val_loss: 0.2267 - val_accuracy: 0.9667 - 443ms/epoch - 5ms/step\n",
            "Epoch 45/50\n",
            "96/96 - 0s - loss: 0.0584 - accuracy: 0.9823 - val_loss: 0.1808 - val_accuracy: 0.9625 - 435ms/epoch - 5ms/step\n",
            "Epoch 46/50\n",
            "96/96 - 0s - loss: 0.0165 - accuracy: 0.9937 - val_loss: 0.3157 - val_accuracy: 0.9500 - 452ms/epoch - 5ms/step\n",
            "Epoch 47/50\n",
            "96/96 - 0s - loss: 0.0308 - accuracy: 0.9927 - val_loss: 0.1644 - val_accuracy: 0.9667 - 423ms/epoch - 4ms/step\n",
            "Epoch 48/50\n",
            "96/96 - 0s - loss: 0.0418 - accuracy: 0.9865 - val_loss: 0.1810 - val_accuracy: 0.9542 - 465ms/epoch - 5ms/step\n",
            "Epoch 49/50\n",
            "96/96 - 0s - loss: 0.0190 - accuracy: 0.9948 - val_loss: 0.1829 - val_accuracy: 0.9708 - 463ms/epoch - 5ms/step\n",
            "Epoch 50/50\n",
            "96/96 - 0s - loss: 0.0232 - accuracy: 0.9896 - val_loss: 0.1691 - val_accuracy: 0.9667 - 458ms/epoch - 5ms/step\n"
          ]
        },
        {
          "output_type": "display_data",
          "data": {
            "text/plain": [
              "<Figure size 432x288 with 1 Axes>"
            ],
            "image/png": "[encoded data removed]"
          },
          "metadata": {
            "needs_background": "light"
          }
        }
      ]
    }
  ]
}